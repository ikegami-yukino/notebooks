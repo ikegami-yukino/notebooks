{
 "cells": [
  {
   "cell_type": "markdown",
   "metadata": {},
   "source": [
    "# 1"
   ]
  },
  {
   "cell_type": "code",
   "execution_count": 1,
   "metadata": {
    "collapsed": false
   },
   "outputs": [
    {
     "data": {
      "text/plain": [
       "2.4"
      ]
     },
     "execution_count": 1,
     "metadata": {},
     "output_type": "execute_result"
    }
   ],
   "source": [
    "12 / (4 + 1)"
   ]
  },
  {
   "cell_type": "markdown",
   "metadata": {},
   "source": [
    "# 2"
   ]
  },
  {
   "cell_type": "code",
   "execution_count": 2,
   "metadata": {
    "collapsed": false
   },
   "outputs": [
    {
     "data": {
      "text/plain": [
       "3142930641582938830174357788501626427282669988762475256374173175398995908420104023465432599069702289330964075081611719197835869803511992549376"
      ]
     },
     "execution_count": 2,
     "metadata": {},
     "output_type": "execute_result"
    }
   ],
   "source": [
    "26**100"
   ]
  },
  {
   "cell_type": "markdown",
   "metadata": {},
   "source": [
    "# 3"
   ]
  },
  {
   "cell_type": "code",
   "execution_count": 3,
   "metadata": {
    "collapsed": false
   },
   "outputs": [
    {
     "data": {
      "text/plain": [
       "['Monty',\n",
       " 'Python',\n",
       " 'Monty',\n",
       " 'Python',\n",
       " 'Monty',\n",
       " 'Python',\n",
       " 'Monty',\n",
       " 'Python',\n",
       " 'Monty',\n",
       " 'Python',\n",
       " 'Monty',\n",
       " 'Python',\n",
       " 'Monty',\n",
       " 'Python',\n",
       " 'Monty',\n",
       " 'Python',\n",
       " 'Monty',\n",
       " 'Python',\n",
       " 'Monty',\n",
       " 'Python',\n",
       " 'Monty',\n",
       " 'Python',\n",
       " 'Monty',\n",
       " 'Python',\n",
       " 'Monty',\n",
       " 'Python',\n",
       " 'Monty',\n",
       " 'Python',\n",
       " 'Monty',\n",
       " 'Python',\n",
       " 'Monty',\n",
       " 'Python',\n",
       " 'Monty',\n",
       " 'Python',\n",
       " 'Monty',\n",
       " 'Python',\n",
       " 'Monty',\n",
       " 'Python',\n",
       " 'Monty',\n",
       " 'Python']"
      ]
     },
     "execution_count": 3,
     "metadata": {},
     "output_type": "execute_result"
    }
   ],
   "source": [
    "['Monty', 'Python'] * 20"
   ]
  },
  {
   "cell_type": "code",
   "execution_count": 4,
   "metadata": {
    "collapsed": false
   },
   "outputs": [
    {
     "data": {
      "text/plain": [
       "['Call',\n",
       " 'me',\n",
       " 'Ishmael',\n",
       " 'Some',\n",
       " 'Call',\n",
       " 'me',\n",
       " 'Ishmael',\n",
       " 'Some',\n",
       " 'Call',\n",
       " 'me',\n",
       " 'Ishmael',\n",
       " 'Some']"
      ]
     },
     "execution_count": 4,
     "metadata": {},
     "output_type": "execute_result"
    }
   ],
   "source": [
    "sent1 = ['Call', 'me', 'Ishmael', 'Some']\n",
    "3 * sent1"
   ]
  },
  {
   "cell_type": "markdown",
   "metadata": {},
   "source": [
    "# 4"
   ]
  },
  {
   "cell_type": "code",
   "execution_count": 1,
   "metadata": {
    "collapsed": false
   },
   "outputs": [
    {
     "name": "stdout",
     "output_type": "stream",
     "text": [
      "*** Introductory Examples for the NLTK Book ***\n",
      "Loading text1, ..., text9 and sent1, ..., sent9\n",
      "Type the name of the text or sentence to view it.\n",
      "Type: 'texts()' or 'sents()' to list the materials.\n",
      "text1: Moby Dick by Herman Melville 1851\n",
      "text2: Sense and Sensibility by Jane Austen 1811\n",
      "text3: The Book of Genesis\n",
      "text4: Inaugural Address Corpus\n",
      "text5: Chat Corpus\n",
      "text6: Monty Python and the Holy Grail\n",
      "text7: Wall Street Journal\n",
      "text8: Personals Corpus\n",
      "text9: The Man Who Was Thursday by G . K . Chesterton 1908\n"
     ]
    }
   ],
   "source": [
    "from nltk.book import *"
   ]
  },
  {
   "cell_type": "code",
   "execution_count": 12,
   "metadata": {
    "collapsed": false
   },
   "outputs": [
    {
     "data": {
      "text/plain": [
       "141576"
      ]
     },
     "execution_count": 12,
     "metadata": {},
     "output_type": "execute_result"
    }
   ],
   "source": [
    "len(text2)"
   ]
  },
  {
   "cell_type": "code",
   "execution_count": 17,
   "metadata": {
    "collapsed": false
   },
   "outputs": [
    {
     "data": {
      "text/plain": [
       "6833"
      ]
     },
     "execution_count": 17,
     "metadata": {},
     "output_type": "execute_result"
    }
   ],
   "source": [
    "len(set(text2))"
   ]
  },
  {
   "cell_type": "markdown",
   "metadata": {},
   "source": [
    "# 24"
   ]
  },
  {
   "cell_type": "code",
   "execution_count": 8,
   "metadata": {
    "collapsed": false
   },
   "outputs": [
    {
     "data": {
      "text/plain": [
       "[]"
      ]
     },
     "execution_count": 8,
     "metadata": {},
     "output_type": "execute_result"
    }
   ],
   "source": [
    "list(filter(lambda x: x.endswith('ize'), text6.vocab().keys()))"
   ]
  },
  {
   "cell_type": "code",
   "execution_count": 9,
   "metadata": {
    "collapsed": false
   },
   "outputs": [
    {
     "data": {
      "text/plain": [
       "['zhiv', 'zoo', 'zone', 'zoop', 'Fetchez', 'frozen', 'zoosh', 'amazes']"
      ]
     },
     "execution_count": 9,
     "metadata": {},
     "output_type": "execute_result"
    }
   ],
   "source": [
    "list(filter(lambda x: 'z' in x, text6.vocab().keys()))"
   ]
  },
  {
   "cell_type": "code",
   "execution_count": 10,
   "metadata": {
    "collapsed": false
   },
   "outputs": [
    {
     "data": {
      "text/plain": [
       "['ptoo',\n",
       " 'Thppt',\n",
       " 'temptress',\n",
       " 'excepting',\n",
       " 'Thpppt',\n",
       " 'empty',\n",
       " 'Chapter',\n",
       " 'aptly',\n",
       " 'Thppppt',\n",
       " 'temptation',\n",
       " 'Thpppppt']"
      ]
     },
     "execution_count": 10,
     "metadata": {},
     "output_type": "execute_result"
    }
   ],
   "source": [
    "list(filter(lambda x: 'pt' in x, text6.vocab().keys()))"
   ]
  },
  {
   "cell_type": "code",
   "execution_count": 15,
   "metadata": {
    "collapsed": false
   },
   "outputs": [
    {
     "data": {
      "text/plain": [
       "['If',\n",
       " 'Iiiiives',\n",
       " 'Steady',\n",
       " 'Tall',\n",
       " 'With',\n",
       " 'Twenty',\n",
       " 'Like',\n",
       " 'Ahh',\n",
       " 'First',\n",
       " 'Dis',\n",
       " 'Tell',\n",
       " 'Maynard',\n",
       " 'Action',\n",
       " 'Dennis',\n",
       " 'Huy',\n",
       " 'Never',\n",
       " 'Angnor',\n",
       " 'Halt',\n",
       " 'Ow',\n",
       " 'Three',\n",
       " 'Thppt',\n",
       " 'To',\n",
       " 'There',\n",
       " 'Does',\n",
       " 'Anthrax',\n",
       " 'Rather',\n",
       " 'Iesu',\n",
       " 'So',\n",
       " 'Hand',\n",
       " 'Nay',\n",
       " 'Now',\n",
       " 'Attila',\n",
       " 'Bread',\n",
       " 'Shh',\n",
       " 'Aaauggh',\n",
       " 'Make',\n",
       " 'Churches',\n",
       " 'Spring',\n",
       " 'Peril',\n",
       " 'Ayy',\n",
       " 'Am',\n",
       " 'By',\n",
       " 'Summer',\n",
       " 'Speak',\n",
       " 'Anarcho',\n",
       " 'Hee',\n",
       " 'Shut',\n",
       " 'Eee',\n",
       " 'Skip',\n",
       " 'Robin',\n",
       " 'Amen',\n",
       " 'Open',\n",
       " 'Supposing',\n",
       " 'Yay',\n",
       " 'Uhh',\n",
       " 'Behold',\n",
       " 'Brave',\n",
       " 'Hyy',\n",
       " 'Cherries',\n",
       " 'Thou',\n",
       " 'Ha',\n",
       " 'Guy',\n",
       " 'Oooh',\n",
       " 'Remove',\n",
       " 'Neee',\n",
       " 'Until',\n",
       " 'Launcelot',\n",
       " 'My',\n",
       " 'Olfin',\n",
       " 'Must',\n",
       " 'Stand',\n",
       " 'Arthur',\n",
       " 'Bedwere',\n",
       " 'Robinson',\n",
       " 'Hey',\n",
       " 'Please',\n",
       " 'Providence',\n",
       " 'Once',\n",
       " 'Hello',\n",
       " 'Swamp',\n",
       " 'Stop',\n",
       " 'Chop',\n",
       " 'Tale',\n",
       " 'Apples',\n",
       " 'Surely',\n",
       " 'Grail',\n",
       " 'Guards',\n",
       " 'Aaagh',\n",
       " 'At',\n",
       " 'Erm',\n",
       " 'Over',\n",
       " 'Torment',\n",
       " 'Ewing',\n",
       " 'Prepare',\n",
       " 'Gawain',\n",
       " 'Winston',\n",
       " 'Packing',\n",
       " 'Knight',\n",
       " 'Hiyya',\n",
       " 'Exactly',\n",
       " 'Back',\n",
       " 'France',\n",
       " 'Divine',\n",
       " 'Un',\n",
       " 'Did',\n",
       " 'Nu',\n",
       " 'Quiet',\n",
       " 'B',\n",
       " 'Hiyaah',\n",
       " 'Chickennn',\n",
       " 'Huyah',\n",
       " 'Ho',\n",
       " 'Follow',\n",
       " 'He',\n",
       " 'Defeat',\n",
       " 'Could',\n",
       " 'Alright',\n",
       " 'Message',\n",
       " 'Wayy',\n",
       " 'Book',\n",
       " 'Shall',\n",
       " 'Hoa',\n",
       " 'We',\n",
       " 'Thpppt',\n",
       " 'Aah',\n",
       " 'King',\n",
       " 'Ask',\n",
       " 'Nador',\n",
       " 'Frank',\n",
       " 'Honestly',\n",
       " 'Gallahad',\n",
       " 'Thank',\n",
       " 'Pie',\n",
       " 'Yup',\n",
       " 'Quite',\n",
       " 'French',\n",
       " 'U',\n",
       " 'Uh',\n",
       " 'Woa',\n",
       " 'Bristol',\n",
       " 'Peng',\n",
       " 'African',\n",
       " 'Chaste',\n",
       " 'Other',\n",
       " 'Explain',\n",
       " 'I',\n",
       " 'Running',\n",
       " 'Bloody',\n",
       " 'Camelot',\n",
       " 'Very',\n",
       " 'Dappy',\n",
       " 'Ah',\n",
       " 'Aaaaaah',\n",
       " 'Looks',\n",
       " 'Dramatically',\n",
       " 'Mind',\n",
       " 'Here',\n",
       " 'Haw',\n",
       " 'Badon',\n",
       " 'Picture',\n",
       " 'His',\n",
       " 'Arimathea',\n",
       " 'Umm',\n",
       " 'Forward',\n",
       " 'Be',\n",
       " 'Five',\n",
       " 'Ecky',\n",
       " 'Don',\n",
       " 'She',\n",
       " 'Together',\n",
       " 'Aauuugh',\n",
       " 'Loimbard',\n",
       " 'Charge',\n",
       " 'Today',\n",
       " 'Castle',\n",
       " 'Waa',\n",
       " 'Ere',\n",
       " 'Unfortunately',\n",
       " 'Tim',\n",
       " 'You',\n",
       " 'Cut',\n",
       " 'Almighty',\n",
       " 'Seek',\n",
       " 'Til',\n",
       " 'Is',\n",
       " 'None',\n",
       " 'Uuh',\n",
       " 'Psalms',\n",
       " 'Table',\n",
       " 'Oooooooh',\n",
       " 'Four',\n",
       " 'For',\n",
       " 'Man',\n",
       " 'Monsieur',\n",
       " 'Right',\n",
       " 'Fetchez',\n",
       " 'Use',\n",
       " 'Jesus',\n",
       " 'England',\n",
       " 'Zoot',\n",
       " 'Aaaaugh',\n",
       " 'Morning',\n",
       " 'Burn',\n",
       " 'Clear',\n",
       " 'Your',\n",
       " 'Put',\n",
       " 'Listen',\n",
       " 'Round',\n",
       " 'Antioch',\n",
       " 'Hoo',\n",
       " 'Lancelot',\n",
       " 'Hurry',\n",
       " 'More',\n",
       " 'Blue',\n",
       " 'Great',\n",
       " 'Recently',\n",
       " 'Perhaps',\n",
       " 'The',\n",
       " 'Ridden',\n",
       " 'Um',\n",
       " 'Away',\n",
       " 'Bridge',\n",
       " 'Too',\n",
       " 'Aauuuves',\n",
       " 'Mine',\n",
       " 'Excalibur',\n",
       " 'May',\n",
       " 'A',\n",
       " 'Thursday',\n",
       " 'Didn',\n",
       " 'Thy',\n",
       " 'See',\n",
       " 'No',\n",
       " 'Gable',\n",
       " 'Mother',\n",
       " 'Victory',\n",
       " 'They',\n",
       " 'Court',\n",
       " 'True',\n",
       " 'Dragon',\n",
       " 'Hm',\n",
       " 'Try',\n",
       " 'Concorde',\n",
       " 'Beast',\n",
       " 'Heh',\n",
       " 'Aaauugh',\n",
       " 'Which',\n",
       " 'Hill',\n",
       " 'C',\n",
       " 'Saint',\n",
       " 'Or',\n",
       " 'And',\n",
       " 'Shrubber',\n",
       " 'Eh',\n",
       " 'Pull',\n",
       " 'Consult',\n",
       " 'Uther',\n",
       " 'Galahad',\n",
       " 'Hiyah',\n",
       " 'Ector',\n",
       " 'Gorge',\n",
       " 'Actually',\n",
       " 'Say',\n",
       " 'Knights',\n",
       " 'An',\n",
       " 'Far',\n",
       " 'Dingo',\n",
       " 'Ages',\n",
       " 'Well',\n",
       " 'Whoa',\n",
       " 'W',\n",
       " 'Holy',\n",
       " 'Ni',\n",
       " 'Welcome',\n",
       " 'Camaaaaaargue',\n",
       " 'Aggh',\n",
       " 'Quickly',\n",
       " 'Ulk',\n",
       " 'Joseph',\n",
       " 'Lord',\n",
       " 'Assyria',\n",
       " 'But',\n",
       " 'As',\n",
       " 'Y',\n",
       " 'Hic',\n",
       " 'All',\n",
       " 'Come',\n",
       " 'Ooh',\n",
       " 'When',\n",
       " 'Bones',\n",
       " 'English',\n",
       " 'Bors',\n",
       " 'Mercea',\n",
       " 'Splendid',\n",
       " 'Father',\n",
       " 'Chapter',\n",
       " 'Old',\n",
       " 'Ives',\n",
       " 'On',\n",
       " 'Augh',\n",
       " 'Nothing',\n",
       " 'Lucky',\n",
       " 'Riiight',\n",
       " 'Autumn',\n",
       " 'Caerbannog',\n",
       " 'Grenade',\n",
       " 'Every',\n",
       " 'Prince',\n",
       " 'Tis',\n",
       " 'Princess',\n",
       " 'Ohh',\n",
       " 'Crapper',\n",
       " 'Hooray',\n",
       " 'Chicken',\n",
       " 'Aaah',\n",
       " 'Even',\n",
       " 'Leaving',\n",
       " 'Tower',\n",
       " 'Doctor',\n",
       " 'Who',\n",
       " 'Everything',\n",
       " 'Oooo',\n",
       " 'Forgive',\n",
       " 'S',\n",
       " 'Hang',\n",
       " 'Said',\n",
       " 'Thee',\n",
       " 'Aauuggghhh',\n",
       " 'Agh',\n",
       " 'Alice',\n",
       " 'This',\n",
       " 'Wood',\n",
       " 'Those',\n",
       " 'Quick',\n",
       " 'Isn',\n",
       " 'O',\n",
       " 'Huh',\n",
       " 'Run',\n",
       " 'Pendragon',\n",
       " 'Bring',\n",
       " 'Clark',\n",
       " 'Erbert',\n",
       " 'Go',\n",
       " 'Eternal',\n",
       " 'Bon',\n",
       " 'Yeaah',\n",
       " 'Meanwhile',\n",
       " 'Between',\n",
       " 'European',\n",
       " 'Since',\n",
       " 'Would',\n",
       " 'Why',\n",
       " 'Britain',\n",
       " 'Walk',\n",
       " 'Order',\n",
       " 'Yeaaah',\n",
       " 'Battle',\n",
       " 'Good',\n",
       " 'Hold',\n",
       " 'Winter',\n",
       " 'Schools',\n",
       " 'Throw',\n",
       " 'Look',\n",
       " 'Umhm',\n",
       " 'Aaaaaaaah',\n",
       " 'Course',\n",
       " 'What',\n",
       " 'N',\n",
       " 'Then',\n",
       " 'Ay',\n",
       " 'It',\n",
       " 'Found',\n",
       " 'Yes',\n",
       " 'Are',\n",
       " 'Bedevere',\n",
       " 'Hallo',\n",
       " 'Anyway',\n",
       " 'Shrubberies',\n",
       " 'Pure',\n",
       " 'Lake',\n",
       " 'Piglet',\n",
       " 'Fine',\n",
       " 'Britons',\n",
       " 'One',\n",
       " 'Will',\n",
       " 'Build',\n",
       " 'Ninepence',\n",
       " 'Firstly',\n",
       " 'Supreme',\n",
       " 'Enchanter',\n",
       " 'Anybody',\n",
       " 'Help',\n",
       " 'Aagh',\n",
       " 'Greetings',\n",
       " 'Midget',\n",
       " 'Stay',\n",
       " 'Lady',\n",
       " 'Thppppt',\n",
       " 'Aaaah',\n",
       " 'Cider',\n",
       " 'Sorry',\n",
       " 'Oh',\n",
       " 'Cornwall',\n",
       " 'Nine',\n",
       " 'Aauuuuugh',\n",
       " 'Bravest',\n",
       " 'Aramaic',\n",
       " 'Oui',\n",
       " 'Black',\n",
       " 'Patsy',\n",
       " 'God',\n",
       " 'Get',\n",
       " 'Quoi',\n",
       " 'Mmm',\n",
       " 'Beyond',\n",
       " 'Just',\n",
       " 'Heee',\n",
       " 'Off',\n",
       " 'Have',\n",
       " 'Two',\n",
       " 'Therefore',\n",
       " 'Pin',\n",
       " 'Silence',\n",
       " 'How',\n",
       " 'Death',\n",
       " 'Thsss',\n",
       " 'Silly',\n",
       " 'Sir',\n",
       " 'Where',\n",
       " 'Lie',\n",
       " 'Uugh',\n",
       " 'Yeah',\n",
       " 'Aaaugh',\n",
       " 'Idiom',\n",
       " 'Really',\n",
       " 'Aaaaaaaaah',\n",
       " 'Oooohoohohooo',\n",
       " 'Auuuuuuuugh',\n",
       " 'Herbert',\n",
       " 'Thpppppt',\n",
       " 'Most',\n",
       " 'Roger',\n",
       " 'Practice',\n",
       " 'Not',\n",
       " 'Himself',\n",
       " 'Fiends',\n",
       " 'Yapping',\n",
       " 'Iiiives',\n",
       " 'Allo',\n",
       " 'Hmm',\n",
       " 'Bravely',\n",
       " 'Armaments',\n",
       " 'Wait',\n",
       " 'Let',\n",
       " 'Brother',\n",
       " 'Lead',\n",
       " 'Christ',\n",
       " 'In',\n",
       " 'Mud',\n",
       " 'Saxons',\n",
       " 'Our',\n",
       " 'Farewell',\n",
       " 'Keep',\n",
       " 'Of',\n",
       " 'That',\n",
       " 'Hya',\n",
       " 'Rheged',\n",
       " 'Hah',\n",
       " 'Bad',\n",
       " 'Excuse',\n",
       " 'Do']"
      ]
     },
     "execution_count": 15,
     "metadata": {},
     "output_type": "execute_result"
    }
   ],
   "source": [
    "def is_title_case(word):\n",
    "    if not word[0].isupper():\n",
    "        return False\n",
    "    return all(c.islower() for c in word[1:])\n",
    "    \n",
    "\n",
    "list(filter(lambda x: is_title_case(x), text6.vocab().keys()))"
   ]
  },
  {
   "cell_type": "markdown",
   "metadata": {},
   "source": [
    "# 25"
   ]
  },
  {
   "cell_type": "code",
   "execution_count": 2,
   "metadata": {
    "collapsed": true
   },
   "outputs": [],
   "source": [
    "words = ['she', 'sells', 'sea', 'shells', 'by', 'the', 'sea', 'shore']"
   ]
  },
  {
   "cell_type": "code",
   "execution_count": 3,
   "metadata": {
    "collapsed": false
   },
   "outputs": [
    {
     "name": "stdout",
     "output_type": "stream",
     "text": [
      "she\n",
      "shells\n",
      "shore\n"
     ]
    }
   ],
   "source": [
    "for word in filter(lambda x: x.startswith('sh'), words):\n",
    "    print(word)"
   ]
  },
  {
   "cell_type": "code",
   "execution_count": 4,
   "metadata": {
    "collapsed": false
   },
   "outputs": [
    {
     "name": "stdout",
     "output_type": "stream",
     "text": [
      "sells\n",
      "shells\n",
      "shore\n"
     ]
    }
   ],
   "source": [
    "for word in filter(lambda x: len(x) > 4, words):\n",
    "    print(word)"
   ]
  },
  {
   "cell_type": "markdown",
   "metadata": {
    "collapsed": true
   },
   "source": [
    "# 26\n",
    "そのコードは、text1の単語の単語長の合計を計算する処理を行う。この数を単語数で割ることでtext1の平均単語長を求めることができる"
   ]
  },
  {
   "cell_type": "markdown",
   "metadata": {},
   "source": [
    "# 27"
   ]
  },
  {
   "cell_type": "code",
   "execution_count": 1,
   "metadata": {
    "collapsed": true
   },
   "outputs": [],
   "source": [
    "def vocab_size(text):\n",
    "    return len(set(text))"
   ]
  },
  {
   "cell_type": "markdown",
   "metadata": {},
   "source": [
    "# 28"
   ]
  },
  {
   "cell_type": "code",
   "execution_count": null,
   "metadata": {
    "collapsed": true
   },
   "outputs": [],
   "source": [
    "def percent(word, text):\n",
    "    return text.count(word) / len(text)"
   ]
  }
 ],
 "metadata": {
  "kernelspec": {
   "display_name": "Python 3",
   "language": "python",
   "name": "python3"
  },
  "language_info": {
   "codemirror_mode": {
    "name": "ipython",
    "version": 3
   },
   "file_extension": ".py",
   "mimetype": "text/x-python",
   "name": "python",
   "nbconvert_exporter": "python",
   "pygments_lexer": "ipython3",
   "version": "3.5.1"
  }
 },
 "nbformat": 4,
 "nbformat_minor": 0
}
