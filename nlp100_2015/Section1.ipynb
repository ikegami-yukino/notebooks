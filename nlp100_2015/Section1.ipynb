{
 "cells": [
  {
   "cell_type": "code",
   "execution_count": 1,
   "metadata": {
    "collapsed": false
   },
   "outputs": [
    {
     "data": {
      "text/plain": [
       "'desserts'"
      ]
     },
     "execution_count": 1,
     "metadata": {},
     "output_type": "execute_result"
    }
   ],
   "source": [
    "'stressed'[::-1]"
   ]
  },
  {
   "cell_type": "code",
   "execution_count": 2,
   "metadata": {
    "collapsed": false
   },
   "outputs": [
    {
     "data": {
      "text/plain": [
       "'パトカー'"
      ]
     },
     "execution_count": 2,
     "metadata": {},
     "output_type": "execute_result"
    }
   ],
   "source": [
    "'パタトクカシーー'[::2]"
   ]
  },
  {
   "cell_type": "code",
   "execution_count": 3,
   "metadata": {
    "collapsed": false
   },
   "outputs": [
    {
     "data": {
      "text/plain": [
       "'パタトクカシーー'"
      ]
     },
     "execution_count": 3,
     "metadata": {},
     "output_type": "execute_result"
    }
   ],
   "source": [
    "''.join([i + j for (i, j) in zip('パトカー', 'タクシー')])"
   ]
  },
  {
   "cell_type": "code",
   "execution_count": 4,
   "metadata": {
    "collapsed": false
   },
   "outputs": [
    {
     "name": "stdout",
     "output_type": "stream",
     "text": [
      "N 1\n",
      "I 1\n",
      "n 1\n",
      "a 3\n",
      "d 1\n",
      "o 1\n",
      "c 1\n",
      "t 1\n",
      "h 1\n",
      "l 1\n",
      "i 1\n",
      "q 1\n",
      "m 1\n"
     ]
    }
   ],
   "source": [
    "from collections import OrderedDict\n",
    "\n",
    "s = \"Now I need a drink, alcoholic of course, after the heavy lectures involving quantum mechanics.\"\n",
    "counter = OrderedDict()\n",
    "for x in s.split():\n",
    "    counter[x[0]] = counter.get(x[0], 0) + 1\n",
    "for (x, y) in counter.items():\n",
    "    print(x, y)"
   ]
  },
  {
   "cell_type": "code",
   "execution_count": 5,
   "metadata": {
    "collapsed": false
   },
   "outputs": [
    {
     "data": {
      "text/plain": [
       "{1: 'H',\n",
       " 2: 'e',\n",
       " 3: 'i',\n",
       " 4: 'e',\n",
       " 5: 'B',\n",
       " 6: 'C',\n",
       " 7: 'N',\n",
       " 8: 'O',\n",
       " 9: 'F',\n",
       " 10: 'e',\n",
       " 11: 'a',\n",
       " 12: 'i',\n",
       " 13: 'l',\n",
       " 14: 'i',\n",
       " 15: 'P',\n",
       " 16: 'S',\n",
       " 17: 'l',\n",
       " 18: 'r',\n",
       " 19: 'K',\n",
       " 20: 'a'}"
      ]
     },
     "execution_count": 5,
     "metadata": {},
     "output_type": "execute_result"
    }
   ],
   "source": [
    "s = \"Hi He Lied Because Boron Could Not Oxidize Fluorine. New Nations Might Also Sign Peace Security Clause. Arthur King Can.\"\n",
    "num = [1, 5, 6, 7, 8, 9, 15, 16, 19]\n",
    "result = {}\n",
    "\n",
    "for (i, x) in enumerate(s.split(), start=1):\n",
    "    position = 0 if i in num else 1\n",
    "    result[i] = x[position]\n",
    "result"
   ]
  },
  {
   "cell_type": "code",
   "execution_count": 6,
   "metadata": {
    "collapsed": false
   },
   "outputs": [
    {
     "name": "stdout",
     "output_type": "stream",
     "text": [
      "['I ', ' a', 'am', 'm ', ' a', 'an', 'n ', ' N', 'NL', 'LP', 'Pe', 'er']\n",
      "[['I', ' '], [' ', 'a'], ['a', 'm'], ['m', ' '], [' ', 'a'], ['a', 'n'], ['n', ' '], [' ', 'N'], ['N', 'L'], ['L', 'P'], ['P', 'e'], ['e', 'r']]\n"
     ]
    }
   ],
   "source": [
    "def to_ngram(item, n):\n",
    "    return [item[i:i+n] for i in range(len(item) - n + 1)]\n",
    "\n",
    "s = \"I am an NLPer\"\n",
    "print(to_ngram(s, 2))\n",
    "print(to_ngram(list(s), 2))"
   ]
  },
  {
   "cell_type": "code",
   "execution_count": 7,
   "metadata": {
    "collapsed": false
   },
   "outputs": [
    {
     "name": "stdout",
     "output_type": "stream",
     "text": [
      "{'is', 'pa', 'ad', 'ag', 'se', 'ra', 'ap', 'di', 'ph', 'gr', 'ar'}\n",
      "{'ar', 'ap', 'ra', 'pa'}\n",
      "{'ad', 'ag', 'se', 'di', 'ph', 'gr', 'is'}\n",
      "{'is', 'ad', 'ag', 'se', 'di', 'ph', 'gr'}\n",
      "True\n",
      "False\n"
     ]
    }
   ],
   "source": [
    "def to_ngram(item, n):\n",
    "    return [item[i:i+n] for i in range(len(item) - n + 1)]\n",
    "\n",
    "X = set(to_ngram(\"paraparaparadise\", 2))\n",
    "Y = set(to_ngram(\"paragraph\", 2))\n",
    "\n",
    "print(X | Y)  # union\n",
    "print(X & Y)  # intersection\n",
    "print(X ^ Y)  # set difference\n",
    "print(Y ^ X)  # set difference\n",
    "print('se' in X)\n",
    "print('se' in Y)"
   ]
  },
  {
   "cell_type": "code",
   "execution_count": 8,
   "metadata": {
    "collapsed": false
   },
   "outputs": [
    {
     "data": {
      "text/plain": [
       "'12時の気温は22.4'"
      ]
     },
     "execution_count": 8,
     "metadata": {},
     "output_type": "execute_result"
    }
   ],
   "source": [
    "def temp(x, y, z):\n",
    "    return '%d時の%sは%s' % (x, y, z)\n",
    "\n",
    "temp(x=12, y=\"気温\", z=22.4)"
   ]
  },
  {
   "cell_type": "code",
   "execution_count": 9,
   "metadata": {
    "collapsed": false
   },
   "outputs": [
    {
     "name": "stdout",
     "output_type": "stream",
     "text": [
      "Lhw25\n",
      "Lsd25\n"
     ]
    }
   ],
   "source": [
    "def cipher(s):\n",
    "    result = ''\n",
    "    for char in s:\n",
    "        result += chr(219-ord(char)) if char.islower() else char\n",
    "    return result\n",
    "\n",
    "print(cipher('Lsd25'))\n",
    "print(cipher('Lhw25'))"
   ]
  },
  {
   "cell_type": "code",
   "execution_count": 10,
   "metadata": {
    "collapsed": false
   },
   "outputs": [
    {
     "name": "stdout",
     "output_type": "stream",
     "text": [
      "I cnulod't blveeie that I culod aalcluty utndrnased what I was rainedg : the phnmeenaol power of the hmuan mind .\n"
     ]
    }
   ],
   "source": [
    "import random\n",
    "\n",
    "def typoglycemia(s):\n",
    "    ret = []\n",
    "    for x in s.split():\n",
    "        if len(x) <= 4:\n",
    "            ret.append(x)\n",
    "        else:\n",
    "            mid = list(x[1:-1])\n",
    "            random.shuffle(mid)\n",
    "            mid = ''.join(mid)\n",
    "            ret.append(x[0] + mid + x[-1])\n",
    "    return ' '.join(ret)\n",
    "\n",
    "print(typoglycemia(\"I couldn't believe that I could actually understand what I was reading : the phenomenal power of the human mind .\"))"
   ]
  },
  {
   "cell_type": "code",
   "execution_count": null,
   "metadata": {
    "collapsed": true
   },
   "outputs": [],
   "source": []
  }
 ],
 "metadata": {
  "kernelspec": {
   "display_name": "Python 3",
   "language": "python",
   "name": "python3"
  },
  "language_info": {
   "codemirror_mode": {
    "name": "ipython",
    "version": 3
   },
   "file_extension": ".py",
   "mimetype": "text/x-python",
   "name": "python",
   "nbconvert_exporter": "python",
   "pygments_lexer": "ipython3",
   "version": "3.5.1"
  }
 },
 "nbformat": 4,
 "nbformat_minor": 0
}
